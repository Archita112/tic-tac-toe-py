{
 "cells": [
  {
   "cell_type": "code",
   "execution_count": null,
   "id": "4985fb51-7a88-4cfd-844b-39c8069fe46f",
   "metadata": {},
   "outputs": [
    {
     "name": "stdout",
     "output_type": "stream",
     "text": [
      "_|_|_\n",
      "_|_|_\n",
      " | | \n"
     ]
    },
    {
     "name": "stdin",
     "output_type": "stream",
     "text": [
      "Place your move : 0\n",
      "Enter X or O:  X\n"
     ]
    },
    {
     "name": "stdout",
     "output_type": "stream",
     "text": [
      "The index 0 is taken by X\n",
      "X|_|_\n",
      "_|_|_\n",
      " | | \n"
     ]
    },
    {
     "name": "stdin",
     "output_type": "stream",
     "text": [
      "Place your move : 1\n",
      "Enter X or O:  X\n"
     ]
    },
    {
     "name": "stdout",
     "output_type": "stream",
     "text": [
      "The index 1 is taken by X\n",
      "X|X|_\n",
      "_|_|_\n",
      " | | \n"
     ]
    },
    {
     "name": "stdin",
     "output_type": "stream",
     "text": [
      "Place your move : 2\n",
      "Enter X or O:  O\n"
     ]
    },
    {
     "name": "stdout",
     "output_type": "stream",
     "text": [
      "The index 2 is taken by O\n",
      "X|X|O\n",
      "_|_|_\n",
      " | | \n"
     ]
    },
    {
     "name": "stdin",
     "output_type": "stream",
     "text": [
      "Place your move : 3\n",
      "Enter X or O:  O\n"
     ]
    },
    {
     "name": "stdout",
     "output_type": "stream",
     "text": [
      "The index 3 is taken by O\n",
      "X|X|O\n",
      "O|_|_\n",
      " | | \n"
     ]
    },
    {
     "name": "stdin",
     "output_type": "stream",
     "text": [
      "Place your move : 4\n",
      "Enter X or O:  X\n"
     ]
    },
    {
     "name": "stdout",
     "output_type": "stream",
     "text": [
      "The index 4 is taken by X\n",
      "X|X|O\n",
      "O|X|_\n",
      " | | \n"
     ]
    },
    {
     "name": "stdin",
     "output_type": "stream",
     "text": [
      "Place your move : 5\n",
      "Enter X or O:  X\n"
     ]
    },
    {
     "name": "stdout",
     "output_type": "stream",
     "text": [
      "The index 5 is taken by X\n",
      "X|X|O\n",
      "O|X|X\n",
      " | | \n"
     ]
    },
    {
     "name": "stdin",
     "output_type": "stream",
     "text": [
      "Place your move : 6\n",
      "Enter X or O:  O\n"
     ]
    },
    {
     "name": "stdout",
     "output_type": "stream",
     "text": [
      "The index 6 is taken by O\n",
      "X|X|O\n",
      "O|X|X\n",
      "O| | \n"
     ]
    },
    {
     "name": "stdin",
     "output_type": "stream",
     "text": [
      "Place your move : 7\n",
      "Enter X or O:  O\n"
     ]
    },
    {
     "name": "stdout",
     "output_type": "stream",
     "text": [
      "The index 7 is taken by O\n",
      "X|X|O\n",
      "O|X|X\n",
      "O|O| \n"
     ]
    }
   ],
   "source": [
    "board = [\"_\", \"_\", \"_\", \"_\", \"_\", \"_\", \" \", \" \", \" \"]\n",
    "def printing_board():\n",
    "    final_board = print(f\"{board[0]}|{board[1]}|{board[2]}\")\n",
    "    final_board1 = print(f\"{board[3]}|{board[4]}|{board[5]}\")\n",
    "    final_board2 = print(f\"{board[6]}|{board[7]}|{board[8]}\")\n",
    "    \n",
    "def assigned_numbers(entered_number, player):\n",
    "    if( board[entered_number] != \"_\" and board[entered_number] != \" \"):\n",
    "        print(\"Place is taken\")\n",
    "    else:\n",
    "        board[entered_number] = player\n",
    "        print(f\"The index {entered_number} is taken by {player}\")\n",
    "\n",
    "def user_input():\n",
    "    assigned_numbers(entered_number, player)\n",
    "    printing_board()\n",
    "        \n",
    "def win(player):\n",
    "    if( (board[0] and board[1] and board[2])== player):\n",
    "        print(f\"{player} wins\")\n",
    "    elif ( (board[3] and board[4] and board[5])== player):\n",
    "        print(f\"{player} wins\")\n",
    "    elif ( (board[6] and board[7] and board[8])== player):\n",
    "        print(f\"{player} wins\")\n",
    "    elif ( (board[0] and board[3] and board[6])== player):\n",
    "        print(f\"{player} wins\")\n",
    "    elif ( (board[1] and board[4] and board[7])== player):\n",
    "        print(f\"{player} wins\")\n",
    "    elif ( (board[2] and board[5] and board[8])== player):\n",
    "        print(f\"{player} wins\")\n",
    "    elif ( (board[0] and board[4] and board[8])== player):\n",
    "        print(f\"{player} wins\")\n",
    "    elif ( (board[2] and board[4] and board[6])== player):\n",
    "        print(f\"{player} wins\")\n",
    "    else:\n",
    "        print(\"You lost!\")\n",
    "        \n",
    "def check_board_full():\n",
    "    return \"_\" not in board and \" \" not in board\n",
    "\n",
    "def main():\n",
    "    printing_board()\n",
    "\n",
    "    for i in range(0, 9):\n",
    "        if check_board_full():\n",
    "            print(\"It's a draw\")\n",
    "            break\n",
    "\n",
    "        entered_number = int(input(\"Place your move :\"))\n",
    "        player = input(\"Enter X or O: \")\n",
    "        assigned_numbers(entered_number, player)\n",
    "        printing_board()\n",
    "\n",
    "    win(player)\n",
    "    \n",
    "main()"
   ]
  },
  {
   "cell_type": "code",
   "execution_count": null,
   "id": "8c39cff4-b5ff-42dc-bbc9-ffbc4fafb546",
   "metadata": {},
   "outputs": [],
   "source": []
  }
 ],
 "metadata": {
  "kernelspec": {
   "display_name": "Python 3 (ipykernel)",
   "language": "python",
   "name": "python3"
  },
  "language_info": {
   "codemirror_mode": {
    "name": "ipython",
    "version": 3
   },
   "file_extension": ".py",
   "mimetype": "text/x-python",
   "name": "python",
   "nbconvert_exporter": "python",
   "pygments_lexer": "ipython3",
   "version": "3.12.1"
  }
 },
 "nbformat": 4,
 "nbformat_minor": 5
}
